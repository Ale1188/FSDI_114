{
 "cells": [
  {
   "cell_type": "code",
   "execution_count": 2,
   "id": "f880bf19-292c-48c9-b56a-1bfefe4d8b5c",
   "metadata": {},
   "outputs": [
    {
     "name": "stdout",
     "output_type": "stream",
     "text": [
      "h\n",
      "e\n",
      "l\n",
      "l\n",
      "o\n",
      ",\n",
      " \n",
      "w\n",
      "o\n",
      "r\n",
      "l\n",
      "d\n"
     ]
    }
   ],
   "source": [
    "for char in \"hello, world\":\n",
    "    print(char)"
   ]
  },
  {
   "cell_type": "markdown",
   "id": "1e6ff615-6b9d-47ed-93e1-977181990ea3",
   "metadata": {},
   "source": [
    "# Problem 1\n",
    "\n",
    "## Anagram Check\n",
    "\n",
    "Give two strings as parameters, define a fuction (anagram_check) that returns True if these are anagrams of each other, False otherwise.\n",
    "\n",
    "## Criteria\n",
    "Two strings are anagrams of each other if *all* the criteria below are met:\n",
    "1. They must be of equal length (in number of letters).\n",
    "2. They must use the same letters the same amount of times.\n",
    "\n",
    "## Examples\n",
    "```\n",
    "heart and earth\n",
    "cars and scar\n",
    "star and rats\n",
    "```"
   ]
  },
  {
   "cell_type": "code",
   "execution_count": 4,
   "id": "fb510350-b795-43bb-8c9d-368f6e71b686",
   "metadata": {},
   "outputs": [],
   "source": [
    "# In the popular Harry Potter saga the villain's name \"Voldemort\" is chosen because it is an anagram of his original human\n",
    "# name. This is based on the phrases: \"I a Lord Voldemort\" and \"Tom Marvolo Riddle\""
   ]
  },
  {
   "cell_type": "code",
   "execution_count": 18,
   "id": "9a2c1319-44b7-4ca9-a517-a457fbb11185",
   "metadata": {},
   "outputs": [],
   "source": [
    "# A poor solution\n",
    "def anagram_check(string1, string2):\n",
    "    return sorted(string1) == sorted(string2)"
   ]
  },
  {
   "cell_type": "code",
   "execution_count": 33,
   "id": "9f644526-95b7-4f50-b517-41241dd6bff7",
   "metadata": {},
   "outputs": [
    {
     "data": {
      "text/plain": [
       "True"
      ]
     },
     "execution_count": 33,
     "metadata": {},
     "output_type": "execute_result"
    }
   ],
   "source": [
    "anagram_check(\"I am Lord Voldemort\", \"Tom Marvolo Riddle\")"
   ]
  },
  {
   "cell_type": "code",
   "execution_count": 34,
   "id": "c7cc0c87-af11-4f6f-a260-97b7508f653b",
   "metadata": {},
   "outputs": [],
   "source": [
    "# define my function \"anagram_check\" which receives string1 of type string and string2 of type string:\n",
    "#    string1 = string1 without spaces\n",
    "#    string2 = string2 without spaces\n",
    "#    string1 = string1 in lower case\n",
    "#    string2 = string2 in lower case\n",
    "#    if the length of string1 and the length of string2 are not equal:\n",
    "#        return False\n",
    "#    dicti_a = new Dictionary\n",
    "#    dicti_b = new Dictionary\n",
    "#    for number in the range between 0 and the length of string1:\n",
    "#         if the character at position \"number\" in string1 is in dicti_a:\n",
    "#             add 1 to the value associated with that character\n",
    "#         otherwise:\n",
    "#              create a new key in dicti_a for the character with its value set to 1 \n",
    "#         if the character at position \"number\" in string2 is in dicti_b:\n",
    "#             add 1 to the value associated with that character\n",
    "#         otherwise:\n",
    "#              create a new key in dicti_b for the character with its value set to 1\n",
    "#    if dicti_a is equal to dicti_b:\n",
    "#        return True\n",
    "#    otherwise:\n",
    "#        return False"
   ]
  },
  {
   "cell_type": "code",
   "execution_count": 35,
   "id": "4837a10a-28b1-480f-949a-0553a8095df8",
   "metadata": {},
   "outputs": [],
   "source": [
    "def anagram_check(string1, string2):\n",
    "    string1 = string1.replace(' ', '').lower()\n",
    "    string2 = string2.replace(' ', '').lower()\n",
    "    \n",
    "    if len(string1) != len(string2):\n",
    "        return False\n",
    "    \n",
    "    dicti_a = {}\n",
    "    dicti_b = {}\n",
    "    \n",
    "    for char in string1:\n",
    "        dicti_a[char] = dicti_a.get(char, 0) + 1\n",
    "        \n",
    "    for char in string2:\n",
    "        dicti_b[char] = dicti_b.get(char, 0) + 1\n",
    "    \n",
    "    return dicti_a == dicti_b"
   ]
  },
  {
   "cell_type": "code",
   "execution_count": 36,
   "id": "80b4e896-f3e8-4fbe-bcf9-ded5bda95f07",
   "metadata": {},
   "outputs": [
    {
     "name": "stdout",
     "output_type": "stream",
     "text": [
      "True\n",
      "True\n",
      "True\n",
      "False\n"
     ]
    }
   ],
   "source": [
    "print(anagram_check(\"I am Lord Voldemort\", \"Tom Marvolo Riddle\"))\n",
    "print(anagram_check(\"cars\", \"scar\"))\n",
    "print(anagram_check(\"star\", \"rats\"))\n",
    "print(anagram_check(\"hello\", \"world\"))"
   ]
  },
  {
   "cell_type": "code",
   "execution_count": null,
   "id": "ea540ba8-15b3-4cf2-9605-db43110f5ca1",
   "metadata": {},
   "outputs": [],
   "source": []
  }
 ],
 "metadata": {
  "kernelspec": {
   "display_name": "Python 3 (ipykernel)",
   "language": "python",
   "name": "python3"
  },
  "language_info": {
   "codemirror_mode": {
    "name": "ipython",
    "version": 3
   },
   "file_extension": ".py",
   "mimetype": "text/x-python",
   "name": "python",
   "nbconvert_exporter": "python",
   "pygments_lexer": "ipython3",
   "version": "3.10.12"
  }
 },
 "nbformat": 4,
 "nbformat_minor": 5
}
