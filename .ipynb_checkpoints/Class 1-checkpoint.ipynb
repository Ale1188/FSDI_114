{
 "cells": [
  {
   "cell_type": "code",
   "execution_count": 2,
   "id": "f880bf19-292c-48c9-b56a-1bfefe4d8b5c",
   "metadata": {},
   "outputs": [
    {
     "name": "stdout",
     "output_type": "stream",
     "text": [
      "h\n",
      "e\n",
      "l\n",
      "l\n",
      "o\n",
      ",\n",
      " \n",
      "w\n",
      "o\n",
      "r\n",
      "l\n",
      "d\n"
     ]
    }
   ],
   "source": [
    "for char in \"hello, world\":\n",
    "    print(char)"
   ]
  },
  {
   "cell_type": "markdown",
   "id": "1e6ff615-6b9d-47ed-93e1-977181990ea3",
   "metadata": {},
   "source": [
    "#Problem 1\n",
    "\n",
    "## Anagram Check"
   ]
  }
 ],
 "metadata": {
  "kernelspec": {
   "display_name": "Python 3 (ipykernel)",
   "language": "python",
   "name": "python3"
  },
  "language_info": {
   "codemirror_mode": {
    "name": "ipython",
    "version": 3
   },
   "file_extension": ".py",
   "mimetype": "text/x-python",
   "name": "python",
   "nbconvert_exporter": "python",
   "pygments_lexer": "ipython3",
   "version": "3.10.12"
  }
 },
 "nbformat": 4,
 "nbformat_minor": 5
}
